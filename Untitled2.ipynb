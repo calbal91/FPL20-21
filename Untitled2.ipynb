{
 "cells": [
  {
   "cell_type": "code",
   "execution_count": 1,
   "metadata": {},
   "outputs": [],
   "source": [
    "#Standard data manipulations\n",
    "import pandas as pd\n",
    "import numpy as np\n",
    "from PythonFunctions.apicallers import *\n",
    "from PythonFunctions.sqlfunctions import *\n",
    "from PythonFunctions.matchscrapers import *\n",
    "import sqlite3\n",
    "import pickle\n",
    "\n",
    "conn = sqlite3.connect('Data/20_21fpl.db')\n",
    "#Instantiate a cursor\n",
    "c = conn.cursor()"
   ]
  },
  {
   "cell_type": "code",
   "execution_count": 2,
   "metadata": {},
   "outputs": [
    {
     "name": "stdout",
     "output_type": "stream",
     "text": [
      "Stored match 0.0 (ID: 58897)\n"
     ]
    }
   ],
   "source": [
    "match_scrape = get_matches([58897], verbose=True)[0]\n",
    "match_object = Match(match_scrape)"
   ]
  },
  {
   "cell_type": "code",
   "execution_count": 4,
   "metadata": {},
   "outputs": [
    {
     "name": "stdout",
     "output_type": "stream",
     "text": [
      "Stored match 0.0 (ID: 58897)\n",
      "Match 58897 object successfully instantiated\n",
      "Match 58897 shot detail dataframe successfully created\n",
      "Error on row 0 - you may be trying to upload a duplicate row\n",
      "Error on row 1 - you may be trying to upload a duplicate row\n",
      "Error on row 2 - you may be trying to upload a duplicate row\n",
      "Error on row 3 - you may be trying to upload a duplicate row\n",
      "Error on row 4 - you may be trying to upload a duplicate row\n",
      "Error on row 5 - you may be trying to upload a duplicate row\n",
      "Error on row 6 - you may be trying to upload a duplicate row\n",
      "Error on row 7 - you may be trying to upload a duplicate row\n",
      "Error on row 8 - you may be trying to upload a duplicate row\n",
      "Error on row 9 - you may be trying to upload a duplicate row\n",
      "Error on row 10 - you may be trying to upload a duplicate row\n",
      "Error on row 11 - you may be trying to upload a duplicate row\n",
      "Error on row 12 - you may be trying to upload a duplicate row\n",
      "Error on row 13 - you may be trying to upload a duplicate row\n",
      "Match 58897 player detail dataframe successfully created\n",
      "Match 58897 team detail dataframe successfully created\n",
      "Error on row 0 - you may be trying to upload a duplicate row\n",
      "Error on row 1 - you may be trying to upload a duplicate row\n",
      "Match 58897 SQL entries committed\n",
      "\n",
      "FAILURE: Match 58897 failed to scrape - may not have been played yet\n",
      "\n"
     ]
    }
   ],
   "source": [
    "CoreDataUpdater([58897], c, conn)"
   ]
  },
  {
   "cell_type": "code",
   "execution_count": null,
   "metadata": {},
   "outputs": [],
   "source": []
  },
  {
   "cell_type": "code",
   "execution_count": null,
   "metadata": {},
   "outputs": [],
   "source": []
  },
  {
   "cell_type": "markdown",
   "metadata": {
    "scrolled": true
   },
   "source": [
    "url = 'https://fantasy.premierleague.com/api/bootstrap-static/'\n",
    "results = requests.get(url).json()\n",
    "\n",
    "prices = []\n",
    "\n",
    "for i in results['elements']:\n",
    "    prices.append(i['now_cost']/10)\n",
    "    \n",
    "df_players['Price'] = prices\n",
    "df_players.to_csv('Players')"
   ]
  },
  {
   "cell_type": "markdown",
   "metadata": {},
   "source": [
    "df_teams = team_basic_df_generator()"
   ]
  },
  {
   "cell_type": "markdown",
   "metadata": {},
   "source": [
    "df_teams"
   ]
  },
  {
   "cell_type": "markdown",
   "metadata": {
    "scrolled": true
   },
   "source": [
    "team_strengths = []\n",
    "opposition_strengths = []\n",
    "\n",
    "for i in df_matches['Team']:\n",
    "    print(i)\n",
    "    strength = df_teams.loc[df_teams['CommentName']==i,'Strength'].item()\n",
    "    team_strengths.append(strength)\n",
    "\n",
    "for i in df_matches['Opposition']:\n",
    "    opposition_strengths.append(df_teams.loc[df_teams['CommentName']==i,'Strength'].item())\n",
    "    \n",
    "df_matches['TeamStrength'] = team_strengths\n",
    "df_matches['OppositionStrength'] = opposition_strengths"
   ]
  },
  {
   "cell_type": "markdown",
   "metadata": {},
   "source": [
    "df_matches"
   ]
  },
  {
   "cell_type": "markdown",
   "metadata": {},
   "source": [
    "df_players.to_csv('players.csv')\n",
    "df_matches.to_csv('matches.csv')"
   ]
  },
  {
   "cell_type": "code",
   "execution_count": null,
   "metadata": {},
   "outputs": [],
   "source": [
    "with open('goal_probs.pickle', 'rb') as f:\n",
    "    goal_probs = pickle.load(f)"
   ]
  },
  {
   "cell_type": "code",
   "execution_count": null,
   "metadata": {},
   "outputs": [],
   "source": [
    "goal_probs"
   ]
  },
  {
   "cell_type": "code",
   "execution_count": null,
   "metadata": {},
   "outputs": [],
   "source": [
    "conn2 = sqlite3.connect('Data/Archive/fpl.db')\n",
    "#Instantiate a cursor\n",
    "c2 = conn2.cursor()"
   ]
  },
  {
   "cell_type": "code",
   "execution_count": null,
   "metadata": {},
   "outputs": [],
   "source": [
    "shot_detail_19_20 = sql('select * from ShotsDetail', c2)"
   ]
  },
  {
   "cell_type": "code",
   "execution_count": null,
   "metadata": {},
   "outputs": [],
   "source": [
    "shot_detail_19_20 = shot_detail_19_20.reset_index(drop=True).drop('TableIndex', axis=1)"
   ]
  },
  {
   "cell_type": "code",
   "execution_count": null,
   "metadata": {},
   "outputs": [],
   "source": [
    "create_sql_table(shot_detail_19_20, c, 'shot_detail_19_20')"
   ]
  },
  {
   "cell_type": "code",
   "execution_count": null,
   "metadata": {},
   "outputs": [],
   "source": [
    "populate_sql_from_dataframe(shot_detail_19_20, 'shot_detail_19_20', c)\n",
    "conn.commit()"
   ]
  },
  {
   "cell_type": "code",
   "execution_count": null,
   "metadata": {},
   "outputs": [],
   "source": [
    "#Create the shot detail dataframe for that match\n",
    "temp_shot_detail_df = combine_shot_tables([match_object])\n",
    "\n",
    "#Create the player matches detail dataframe\n",
    "#Firstly, we need to create a simple player games table for the match\n",
    "temp_player_df = PlayerBasicsGenerator([match_object], df_players)\n",
    "\n",
    "#Then we use the extender to populate\n",
    "temp_player_detail_df = df_player_games_extender(temp_player_df,\n",
    "                                                 shot_df = temp_shot_detail_df,\n",
    "                                                 verbose=False)"
   ]
  },
  {
   "cell_type": "code",
   "execution_count": 8,
   "metadata": {},
   "outputs": [],
   "source": [
    "shots_19_20 = sql('select * from shot_detail_19_20', c)\n",
    "shots_20_21 = sql('select * from shots_detail', c)\n",
    "\n",
    "df_all_shots = pd.concat([shots_19_20, shots_20_21]).reset_index(drop=True)"
   ]
  },
  {
   "cell_type": "code",
   "execution_count": 11,
   "metadata": {},
   "outputs": [
    {
     "data": {
      "text/html": [
       "<div>\n",
       "<style scoped>\n",
       "    .dataframe tbody tr th:only-of-type {\n",
       "        vertical-align: middle;\n",
       "    }\n",
       "\n",
       "    .dataframe tbody tr th {\n",
       "        vertical-align: top;\n",
       "    }\n",
       "\n",
       "    .dataframe thead th {\n",
       "        text-align: right;\n",
       "    }\n",
       "</style>\n",
       "<table border=\"1\" class=\"dataframe\">\n",
       "  <thead>\n",
       "    <tr style=\"text-align: right;\">\n",
       "      <th></th>\n",
       "      <th>Total</th>\n",
       "      <th>OnTarget</th>\n",
       "      <th>Goals</th>\n",
       "      <th>TotalOnTarget</th>\n",
       "      <th>TotalXG</th>\n",
       "      <th>OnTargetXG</th>\n",
       "    </tr>\n",
       "    <tr>\n",
       "      <th>ShotClass</th>\n",
       "      <th></th>\n",
       "      <th></th>\n",
       "      <th></th>\n",
       "      <th></th>\n",
       "      <th></th>\n",
       "      <th></th>\n",
       "    </tr>\n",
       "  </thead>\n",
       "  <tbody>\n",
       "    <tr>\n",
       "      <th>AdifficultangleAssistedNonCentralStrike</th>\n",
       "      <td>222</td>\n",
       "      <td>94.0</td>\n",
       "      <td>6.0</td>\n",
       "      <td>0.423423</td>\n",
       "      <td>0.027027</td>\n",
       "      <td>0.063830</td>\n",
       "    </tr>\n",
       "    <tr>\n",
       "      <th>AdifficultangleNonCentralHeader</th>\n",
       "      <td>25</td>\n",
       "      <td>11.0</td>\n",
       "      <td>2.0</td>\n",
       "      <td>0.440000</td>\n",
       "      <td>0.080000</td>\n",
       "      <td>0.181818</td>\n",
       "    </tr>\n",
       "    <tr>\n",
       "      <th>AdifficultangleSoloNonCentralStrike</th>\n",
       "      <td>86</td>\n",
       "      <td>33.0</td>\n",
       "      <td>5.0</td>\n",
       "      <td>0.383721</td>\n",
       "      <td>0.058140</td>\n",
       "      <td>0.151515</td>\n",
       "    </tr>\n",
       "    <tr>\n",
       "      <th>LongRange</th>\n",
       "      <td>91</td>\n",
       "      <td>54.0</td>\n",
       "      <td>38.0</td>\n",
       "      <td>0.593407</td>\n",
       "      <td>0.417582</td>\n",
       "      <td>0.703704</td>\n",
       "    </tr>\n",
       "    <tr>\n",
       "      <th>OutsidetheboxAssistedNonCentralStrike</th>\n",
       "      <td>2739</td>\n",
       "      <td>769.0</td>\n",
       "      <td>95.0</td>\n",
       "      <td>0.280759</td>\n",
       "      <td>0.034684</td>\n",
       "      <td>0.123537</td>\n",
       "    </tr>\n",
       "    <tr>\n",
       "      <th>OutsidetheboxNonCentralHeader</th>\n",
       "      <td>5</td>\n",
       "      <td>0.0</td>\n",
       "      <td>0.0</td>\n",
       "      <td>0.000000</td>\n",
       "      <td>0.000000</td>\n",
       "      <td>0.000000</td>\n",
       "    </tr>\n",
       "    <tr>\n",
       "      <th>OutsidetheboxSoloNonCentralStrike</th>\n",
       "      <td>1440</td>\n",
       "      <td>304.0</td>\n",
       "      <td>24.0</td>\n",
       "      <td>0.211111</td>\n",
       "      <td>0.016667</td>\n",
       "      <td>0.078947</td>\n",
       "    </tr>\n",
       "    <tr>\n",
       "      <th>Penalty</th>\n",
       "      <td>89</td>\n",
       "      <td>86.0</td>\n",
       "      <td>65.0</td>\n",
       "      <td>0.966292</td>\n",
       "      <td>0.730337</td>\n",
       "      <td>0.755814</td>\n",
       "    </tr>\n",
       "    <tr>\n",
       "      <th>TheboxAssistedCentralStrike</th>\n",
       "      <td>2163</td>\n",
       "      <td>926.0</td>\n",
       "      <td>391.0</td>\n",
       "      <td>0.428109</td>\n",
       "      <td>0.180767</td>\n",
       "      <td>0.422246</td>\n",
       "    </tr>\n",
       "    <tr>\n",
       "      <th>TheboxAssistedNonCentralStrike</th>\n",
       "      <td>1619</td>\n",
       "      <td>552.0</td>\n",
       "      <td>129.0</td>\n",
       "      <td>0.340951</td>\n",
       "      <td>0.079679</td>\n",
       "      <td>0.233696</td>\n",
       "    </tr>\n",
       "    <tr>\n",
       "      <th>TheboxCentralHeader</th>\n",
       "      <td>1556</td>\n",
       "      <td>479.0</td>\n",
       "      <td>107.0</td>\n",
       "      <td>0.307841</td>\n",
       "      <td>0.068766</td>\n",
       "      <td>0.223382</td>\n",
       "    </tr>\n",
       "    <tr>\n",
       "      <th>TheboxNonCentralHeader</th>\n",
       "      <td>60</td>\n",
       "      <td>25.0</td>\n",
       "      <td>1.0</td>\n",
       "      <td>0.416667</td>\n",
       "      <td>0.016667</td>\n",
       "      <td>0.040000</td>\n",
       "    </tr>\n",
       "    <tr>\n",
       "      <th>TheboxSoloCentralStrike</th>\n",
       "      <td>725</td>\n",
       "      <td>249.0</td>\n",
       "      <td>108.0</td>\n",
       "      <td>0.343448</td>\n",
       "      <td>0.148966</td>\n",
       "      <td>0.433735</td>\n",
       "    </tr>\n",
       "    <tr>\n",
       "      <th>TheboxSoloNonCentralStrike</th>\n",
       "      <td>386</td>\n",
       "      <td>109.0</td>\n",
       "      <td>23.0</td>\n",
       "      <td>0.282383</td>\n",
       "      <td>0.059585</td>\n",
       "      <td>0.211009</td>\n",
       "    </tr>\n",
       "    <tr>\n",
       "      <th>ThesixyardboxAssistedNonCentralStrike</th>\n",
       "      <td>212</td>\n",
       "      <td>95.0</td>\n",
       "      <td>43.0</td>\n",
       "      <td>0.448113</td>\n",
       "      <td>0.202830</td>\n",
       "      <td>0.452632</td>\n",
       "    </tr>\n",
       "    <tr>\n",
       "      <th>ThesixyardboxNonCentralHeader</th>\n",
       "      <td>208</td>\n",
       "      <td>55.0</td>\n",
       "      <td>18.0</td>\n",
       "      <td>0.264423</td>\n",
       "      <td>0.086538</td>\n",
       "      <td>0.327273</td>\n",
       "    </tr>\n",
       "    <tr>\n",
       "      <th>ThesixyardboxSoloNonCentralStrike</th>\n",
       "      <td>95</td>\n",
       "      <td>50.0</td>\n",
       "      <td>19.0</td>\n",
       "      <td>0.526316</td>\n",
       "      <td>0.200000</td>\n",
       "      <td>0.380000</td>\n",
       "    </tr>\n",
       "    <tr>\n",
       "      <th>VerycloserangeAssistedNonStrike</th>\n",
       "      <td>197</td>\n",
       "      <td>125.0</td>\n",
       "      <td>92.0</td>\n",
       "      <td>0.634518</td>\n",
       "      <td>0.467005</td>\n",
       "      <td>0.736000</td>\n",
       "    </tr>\n",
       "    <tr>\n",
       "      <th>VerycloserangeNonHeader</th>\n",
       "      <td>231</td>\n",
       "      <td>92.0</td>\n",
       "      <td>58.0</td>\n",
       "      <td>0.398268</td>\n",
       "      <td>0.251082</td>\n",
       "      <td>0.630435</td>\n",
       "    </tr>\n",
       "    <tr>\n",
       "      <th>VerycloserangeSoloNonStrike</th>\n",
       "      <td>125</td>\n",
       "      <td>95.0</td>\n",
       "      <td>61.0</td>\n",
       "      <td>0.760000</td>\n",
       "      <td>0.488000</td>\n",
       "      <td>0.642105</td>\n",
       "    </tr>\n",
       "  </tbody>\n",
       "</table>\n",
       "</div>"
      ],
      "text/plain": [
       "                                         Total  OnTarget  Goals  \\\n",
       "ShotClass                                                         \n",
       "AdifficultangleAssistedNonCentralStrike    222      94.0    6.0   \n",
       "AdifficultangleNonCentralHeader             25      11.0    2.0   \n",
       "AdifficultangleSoloNonCentralStrike         86      33.0    5.0   \n",
       "LongRange                                   91      54.0   38.0   \n",
       "OutsidetheboxAssistedNonCentralStrike     2739     769.0   95.0   \n",
       "OutsidetheboxNonCentralHeader                5       0.0    0.0   \n",
       "OutsidetheboxSoloNonCentralStrike         1440     304.0   24.0   \n",
       "Penalty                                     89      86.0   65.0   \n",
       "TheboxAssistedCentralStrike               2163     926.0  391.0   \n",
       "TheboxAssistedNonCentralStrike            1619     552.0  129.0   \n",
       "TheboxCentralHeader                       1556     479.0  107.0   \n",
       "TheboxNonCentralHeader                      60      25.0    1.0   \n",
       "TheboxSoloCentralStrike                    725     249.0  108.0   \n",
       "TheboxSoloNonCentralStrike                 386     109.0   23.0   \n",
       "ThesixyardboxAssistedNonCentralStrike      212      95.0   43.0   \n",
       "ThesixyardboxNonCentralHeader              208      55.0   18.0   \n",
       "ThesixyardboxSoloNonCentralStrike           95      50.0   19.0   \n",
       "VerycloserangeAssistedNonStrike            197     125.0   92.0   \n",
       "VerycloserangeNonHeader                    231      92.0   58.0   \n",
       "VerycloserangeSoloNonStrike                125      95.0   61.0   \n",
       "\n",
       "                                         TotalOnTarget   TotalXG  OnTargetXG  \n",
       "ShotClass                                                                     \n",
       "AdifficultangleAssistedNonCentralStrike       0.423423  0.027027    0.063830  \n",
       "AdifficultangleNonCentralHeader               0.440000  0.080000    0.181818  \n",
       "AdifficultangleSoloNonCentralStrike           0.383721  0.058140    0.151515  \n",
       "LongRange                                     0.593407  0.417582    0.703704  \n",
       "OutsidetheboxAssistedNonCentralStrike         0.280759  0.034684    0.123537  \n",
       "OutsidetheboxNonCentralHeader                 0.000000  0.000000    0.000000  \n",
       "OutsidetheboxSoloNonCentralStrike             0.211111  0.016667    0.078947  \n",
       "Penalty                                       0.966292  0.730337    0.755814  \n",
       "TheboxAssistedCentralStrike                   0.428109  0.180767    0.422246  \n",
       "TheboxAssistedNonCentralStrike                0.340951  0.079679    0.233696  \n",
       "TheboxCentralHeader                           0.307841  0.068766    0.223382  \n",
       "TheboxNonCentralHeader                        0.416667  0.016667    0.040000  \n",
       "TheboxSoloCentralStrike                       0.343448  0.148966    0.433735  \n",
       "TheboxSoloNonCentralStrike                    0.282383  0.059585    0.211009  \n",
       "ThesixyardboxAssistedNonCentralStrike         0.448113  0.202830    0.452632  \n",
       "ThesixyardboxNonCentralHeader                 0.264423  0.086538    0.327273  \n",
       "ThesixyardboxSoloNonCentralStrike             0.526316  0.200000    0.380000  \n",
       "VerycloserangeAssistedNonStrike               0.634518  0.467005    0.736000  \n",
       "VerycloserangeNonHeader                       0.398268  0.251082    0.630435  \n",
       "VerycloserangeSoloNonStrike                   0.760000  0.488000    0.642105  "
      ]
     },
     "execution_count": 11,
     "metadata": {},
     "output_type": "execute_result"
    }
   ],
   "source": [
    "xg_prob_constructor(df_all_shots)"
   ]
  },
  {
   "cell_type": "code",
   "execution_count": 14,
   "metadata": {},
   "outputs": [],
   "source": [
    "df_matches = pd.read_csv('matches.csv').drop('Unnamed: 0', axis=1)"
   ]
  },
  {
   "cell_type": "code",
   "execution_count": 15,
   "metadata": {},
   "outputs": [
    {
     "name": "stdout",
     "output_type": "stream",
     "text": [
      "CREATE TABLE matches_basic (matches_basicID INTEGER PRIMARY KEY, TableIndex TEXT, MatchID INTEGER, GameWeek INTEGER, Date TEXT, Team TEXT, Opposition TEXT, Home TEXT, TeamStrength INTEGER, OppositionStrength INTEGER, unique (MatchID, GameWeek, Date, Team, Opposition, Home, TeamStrength, OppositionStrength));\n",
      "\n",
      "New table added\n"
     ]
    }
   ],
   "source": [
    "create_sql_table(df_matches, c, 'matches_basic')"
   ]
  },
  {
   "cell_type": "code",
   "execution_count": 16,
   "metadata": {},
   "outputs": [],
   "source": [
    "populate_sql_from_dataframe(df_matches, 'matches_basic', c)"
   ]
  },
  {
   "cell_type": "code",
   "execution_count": 17,
   "metadata": {},
   "outputs": [],
   "source": [
    "conn.commit()"
   ]
  },
  {
   "cell_type": "code",
   "execution_count": null,
   "metadata": {},
   "outputs": [],
   "source": []
  }
 ],
 "metadata": {
  "kernelspec": {
   "display_name": "Python 3",
   "language": "python",
   "name": "python3"
  },
  "language_info": {
   "codemirror_mode": {
    "name": "ipython",
    "version": 3
   },
   "file_extension": ".py",
   "mimetype": "text/x-python",
   "name": "python",
   "nbconvert_exporter": "python",
   "pygments_lexer": "ipython3",
   "version": "3.7.3"
  }
 },
 "nbformat": 4,
 "nbformat_minor": 2
}
