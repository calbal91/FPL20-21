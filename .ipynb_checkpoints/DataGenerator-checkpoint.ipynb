{
 "cells": [
  {
   "cell_type": "markdown",
   "metadata": {},
   "source": [
    "# FPL Data Generator\n",
    "\n",
    "This notebook scrapes played matches, then generates the required CSV files for the accompanying Tableau dashboards."
   ]
  },
  {
   "cell_type": "code",
   "execution_count": 1,
   "metadata": {},
   "outputs": [],
   "source": [
    "#Standard data manipulations\n",
    "import pandas as pd\n",
    "import numpy as np\n",
    "\n",
    "from datetime import date\n",
    "import sqlite3\n",
    "import pickle\n",
    "\n",
    "#Import custom functions\n",
    "from PythonFunctions.apicallers import *\n",
    "from PythonFunctions.sqlfunctions import *\n",
    "from PythonFunctions.matchscrapers import *\n",
    "\n",
    "#Suppress warnings from showing\n",
    "import warnings\n",
    "warnings.filterwarnings('ignore')\n",
    "\n",
    "#Connect to the SQL database\n",
    "conn = sqlite3.connect('Data/20_21fpl.db')\n",
    "#Instantiate a cursor\n",
    "c = conn.cursor()"
   ]
  },
  {
   "cell_type": "markdown",
   "metadata": {},
   "source": [
    "Work out which matches we ought to have data for, which aren't present in the database."
   ]
  },
  {
   "cell_type": "code",
   "execution_count": 2,
   "metadata": {
    "scrolled": false
   },
   "outputs": [
    {
     "name": "stdout",
     "output_type": "stream",
     "text": [
      "[58919, 58920, 58921, 58922, 58923, 58925]\n"
     ]
    }
   ],
   "source": [
    "to_run = suggested_match_ids()\n",
    "print(to_run)"
   ]
  },
  {
   "cell_type": "markdown",
   "metadata": {},
   "source": [
    "Update data for these matches."
   ]
  },
  {
   "cell_type": "code",
   "execution_count": 3,
   "metadata": {},
   "outputs": [],
   "source": [
    "# CoreDataUpdater(to_run, c, conn)"
   ]
  },
  {
   "cell_type": "markdown",
   "metadata": {},
   "source": [
    "Sweep up matches that the updater might have missed."
   ]
  },
  {
   "cell_type": "code",
   "execution_count": 4,
   "metadata": {
    "scrolled": true
   },
   "outputs": [],
   "source": [
    "# MatchSweeper(c, conn)"
   ]
  },
  {
   "cell_type": "markdown",
   "metadata": {},
   "source": [
    "# Expected Goals"
   ]
  },
  {
   "cell_type": "code",
   "execution_count": 5,
   "metadata": {},
   "outputs": [],
   "source": [
    "#Bring in XG functions now (note this is brought in after the new goal data is known)\n",
    "from PythonFunctions.xg import *"
   ]
  },
  {
   "cell_type": "code",
   "execution_count": 6,
   "metadata": {},
   "outputs": [],
   "source": [
    "#Generate a player detail dataframe, with the XG stats \n",
    "df_pm = pd.merge(df_pm_generator(), api_stat_generator(), on=['MatchID','Player'])\n",
    "df_tm = df_tm_generator()"
   ]
  },
  {
   "cell_type": "code",
   "execution_count": null,
   "metadata": {},
   "outputs": [],
   "source": []
  }
 ],
 "metadata": {
  "kernelspec": {
   "display_name": "Python 3",
   "language": "python",
   "name": "python3"
  },
  "language_info": {
   "codemirror_mode": {
    "name": "ipython",
    "version": 3
   },
   "file_extension": ".py",
   "mimetype": "text/x-python",
   "name": "python",
   "nbconvert_exporter": "python",
   "pygments_lexer": "ipython3",
   "version": "3.7.3"
  }
 },
 "nbformat": 4,
 "nbformat_minor": 2
}
