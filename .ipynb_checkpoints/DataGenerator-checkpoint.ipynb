{
 "cells": [
  {
   "cell_type": "code",
   "execution_count": 1,
   "metadata": {},
   "outputs": [],
   "source": [
    "#Standard data manipulations\n",
    "import pandas as pd\n",
    "import numpy as np\n",
    "\n",
    "from datetime import date\n",
    "import sqlite3\n",
    "import pickle\n",
    "\n",
    "#Import custom functions\n",
    "from PythonFunctions.apicallers import *\n",
    "from PythonFunctions.sqlfunctions import *\n",
    "from PythonFunctions.matchscrapers import *\n",
    "from PythonFunctions.xg import *\n",
    "\n",
    "#Connect to the SQL database\n",
    "conn = sqlite3.connect('Data/20_21fpl.db')\n",
    "#Instantiate a cursor\n",
    "c = conn.cursor()"
   ]
  },
  {
   "cell_type": "code",
   "execution_count": 10,
   "metadata": {},
   "outputs": [
    {
     "name": "stderr",
     "output_type": "stream",
     "text": [
      "/Users/Callum/anaconda3/lib/python3.7/site-packages/ipykernel_launcher.py:6: SettingWithCopyWarning: \n",
      "A value is trying to be set on a copy of a slice from a DataFrame.\n",
      "Try using .loc[row_indexer,col_indexer] = value instead\n",
      "\n",
      "See the caveats in the documentation: http://pandas.pydata.org/pandas-docs/stable/indexing.html#indexing-view-versus-copy\n",
      "  \n",
      "/Users/Callum/anaconda3/lib/python3.7/site-packages/ipykernel_launcher.py:8: FutureWarning: Comparing Series of datetimes with 'datetime.date'.  Currently, the\n",
      "'datetime.date' is coerced to a datetime. In the future pandas will\n",
      "not coerce, and a TypeError will be raised. To retain the current\n",
      "behavior, convert the 'datetime.date' to a datetime with\n",
      "'pd.Timestamp'.\n",
      "  \n"
     ]
    },
    {
     "data": {
      "text/plain": [
       "[58898,\n",
       " 58899,\n",
       " 58901,\n",
       " 58902,\n",
       " 58903,\n",
       " 58904,\n",
       " 58905,\n",
       " 58906,\n",
       " 58907,\n",
       " 58908,\n",
       " 58909,\n",
       " 58910,\n",
       " 58911,\n",
       " 58912,\n",
       " 58913,\n",
       " 58914,\n",
       " 58915,\n",
       " 58916,\n",
       " 58917,\n",
       " 58918,\n",
       " 58919,\n",
       " 58920,\n",
       " 58921,\n",
       " 58922,\n",
       " 58923,\n",
       " 58924,\n",
       " 58925]"
      ]
     },
     "execution_count": 10,
     "metadata": {},
     "output_type": "execute_result"
    }
   ],
   "source": [
    "suggested_match_ids()"
   ]
  },
  {
   "cell_type": "code",
   "execution_count": null,
   "metadata": {},
   "outputs": [],
   "source": [
    "df3 = sql('SELECT * FROM TeamMatchesDetail', c)\n",
    "matchids = list(df3['MatchID'].unique())\n",
    "\n",
    "missing_matches = []\n",
    "\n",
    "for i in range(min(matchids),max(matchids)+1):\n",
    "    if i not in matchids:\n",
    "        missing_matches.append(i)\n",
    "        print(i)"
   ]
  },
  {
   "cell_type": "code",
   "execution_count": null,
   "metadata": {},
   "outputs": [],
   "source": []
  }
 ],
 "metadata": {
  "kernelspec": {
   "display_name": "Python 3",
   "language": "python",
   "name": "python3"
  },
  "language_info": {
   "codemirror_mode": {
    "name": "ipython",
    "version": 3
   },
   "file_extension": ".py",
   "mimetype": "text/x-python",
   "name": "python",
   "nbconvert_exporter": "python",
   "pygments_lexer": "ipython3",
   "version": "3.7.3"
  }
 },
 "nbformat": 4,
 "nbformat_minor": 2
}
