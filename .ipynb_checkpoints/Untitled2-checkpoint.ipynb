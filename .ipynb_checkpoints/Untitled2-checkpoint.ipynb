{
 "cells": [
  {
   "cell_type": "code",
   "execution_count": 1,
   "metadata": {},
   "outputs": [],
   "source": [
    "#Standard data manipulations\n",
    "import pandas as pd\n",
    "import numpy as np\n",
    "from PythonFunctions.apicallers import *\n",
    "from PythonFunctions.sqlfunctions import *\n",
    "from PythonFunctions.matchscrapers import *\n",
    "import sqlite3\n",
    "import pickle\n",
    "\n",
    "conn = sqlite3.connect('Data/20_21fpl.db')\n",
    "#Instantiate a cursor\n",
    "c = conn.cursor()"
   ]
  },
  {
   "cell_type": "code",
   "execution_count": 2,
   "metadata": {},
   "outputs": [
    {
     "name": "stdout",
     "output_type": "stream",
     "text": [
      "Stored match 0.0 (ID: 58897)\n"
     ]
    }
   ],
   "source": [
    "match_scrape = get_matches([58897], verbose=True)[0]\n",
    "match_object = Match(match_scrape)"
   ]
  },
  {
   "cell_type": "code",
   "execution_count": 4,
   "metadata": {},
   "outputs": [
    {
     "name": "stdout",
     "output_type": "stream",
     "text": [
      "Stored match 0.0 (ID: 58897)\n",
      "Match 58897 object successfully instantiated\n",
      "Match 58897 shot detail dataframe successfully created\n",
      "Error on row 0 - you may be trying to upload a duplicate row\n",
      "Error on row 1 - you may be trying to upload a duplicate row\n",
      "Error on row 2 - you may be trying to upload a duplicate row\n",
      "Error on row 3 - you may be trying to upload a duplicate row\n",
      "Error on row 4 - you may be trying to upload a duplicate row\n",
      "Error on row 5 - you may be trying to upload a duplicate row\n",
      "Error on row 6 - you may be trying to upload a duplicate row\n",
      "Error on row 7 - you may be trying to upload a duplicate row\n",
      "Error on row 8 - you may be trying to upload a duplicate row\n",
      "Error on row 9 - you may be trying to upload a duplicate row\n",
      "Error on row 10 - you may be trying to upload a duplicate row\n",
      "Error on row 11 - you may be trying to upload a duplicate row\n",
      "Error on row 12 - you may be trying to upload a duplicate row\n",
      "Error on row 13 - you may be trying to upload a duplicate row\n",
      "Match 58897 player detail dataframe successfully created\n",
      "Match 58897 team detail dataframe successfully created\n",
      "Error on row 0 - you may be trying to upload a duplicate row\n",
      "Error on row 1 - you may be trying to upload a duplicate row\n",
      "Match 58897 SQL entries committed\n",
      "\n",
      "FAILURE: Match 58897 failed to scrape - may not have been played yet\n",
      "\n"
     ]
    }
   ],
   "source": [
    "CoreDataUpdater([58897], c, conn)"
   ]
  },
  {
   "cell_type": "code",
   "execution_count": null,
   "metadata": {},
   "outputs": [],
   "source": []
  },
  {
   "cell_type": "code",
   "execution_count": null,
   "metadata": {},
   "outputs": [],
   "source": []
  },
  {
   "cell_type": "markdown",
   "metadata": {
    "scrolled": true
   },
   "source": [
    "url = 'https://fantasy.premierleague.com/api/bootstrap-static/'\n",
    "results = requests.get(url).json()\n",
    "\n",
    "prices = []\n",
    "\n",
    "for i in results['elements']:\n",
    "    prices.append(i['now_cost']/10)\n",
    "    \n",
    "df_players['Price'] = prices\n",
    "df_players.to_csv('Players')"
   ]
  },
  {
   "cell_type": "markdown",
   "metadata": {},
   "source": [
    "df_teams = team_basic_df_generator()"
   ]
  },
  {
   "cell_type": "markdown",
   "metadata": {},
   "source": [
    "df_teams"
   ]
  },
  {
   "cell_type": "markdown",
   "metadata": {
    "scrolled": true
   },
   "source": [
    "team_strengths = []\n",
    "opposition_strengths = []\n",
    "\n",
    "for i in df_matches['Team']:\n",
    "    print(i)\n",
    "    strength = df_teams.loc[df_teams['CommentName']==i,'Strength'].item()\n",
    "    team_strengths.append(strength)\n",
    "\n",
    "for i in df_matches['Opposition']:\n",
    "    opposition_strengths.append(df_teams.loc[df_teams['CommentName']==i,'Strength'].item())\n",
    "    \n",
    "df_matches['TeamStrength'] = team_strengths\n",
    "df_matches['OppositionStrength'] = opposition_strengths"
   ]
  },
  {
   "cell_type": "markdown",
   "metadata": {},
   "source": [
    "df_matches"
   ]
  },
  {
   "cell_type": "markdown",
   "metadata": {},
   "source": [
    "df_players.to_csv('players.csv')\n",
    "df_matches.to_csv('matches.csv')"
   ]
  },
  {
   "cell_type": "code",
   "execution_count": null,
   "metadata": {},
   "outputs": [],
   "source": [
    "with open('goal_probs.pickle', 'rb') as f:\n",
    "    goal_probs = pickle.load(f)"
   ]
  },
  {
   "cell_type": "code",
   "execution_count": null,
   "metadata": {},
   "outputs": [],
   "source": [
    "goal_probs"
   ]
  },
  {
   "cell_type": "code",
   "execution_count": null,
   "metadata": {},
   "outputs": [],
   "source": [
    "conn2 = sqlite3.connect('Data/Archive/fpl.db')\n",
    "#Instantiate a cursor\n",
    "c2 = conn2.cursor()"
   ]
  },
  {
   "cell_type": "code",
   "execution_count": null,
   "metadata": {},
   "outputs": [],
   "source": [
    "shot_detail_19_20 = sql('select * from ShotsDetail', c2)"
   ]
  },
  {
   "cell_type": "code",
   "execution_count": null,
   "metadata": {},
   "outputs": [],
   "source": [
    "shot_detail_19_20 = shot_detail_19_20.reset_index(drop=True).drop('TableIndex', axis=1)"
   ]
  },
  {
   "cell_type": "code",
   "execution_count": null,
   "metadata": {},
   "outputs": [],
   "source": [
    "create_sql_table(shot_detail_19_20, c, 'shot_detail_19_20')"
   ]
  },
  {
   "cell_type": "code",
   "execution_count": null,
   "metadata": {},
   "outputs": [],
   "source": [
    "populate_sql_from_dataframe(shot_detail_19_20, 'shot_detail_19_20', c)\n",
    "conn.commit()"
   ]
  },
  {
   "cell_type": "code",
   "execution_count": null,
   "metadata": {},
   "outputs": [],
   "source": [
    "#Create the shot detail dataframe for that match\n",
    "temp_shot_detail_df = combine_shot_tables([match_object])\n",
    "\n",
    "#Create the player matches detail dataframe\n",
    "#Firstly, we need to create a simple player games table for the match\n",
    "temp_player_df = PlayerBasicsGenerator([match_object], df_players)\n",
    "\n",
    "#Then we use the extender to populate\n",
    "temp_player_detail_df = df_player_games_extender(temp_player_df,\n",
    "                                                 shot_df = temp_shot_detail_df,\n",
    "                                                 verbose=False)"
   ]
  },
  {
   "cell_type": "code",
   "execution_count": 6,
   "metadata": {},
   "outputs": [],
   "source": [
    "shots_19_20 = sql('select * from shot_detail_19_20', c)\n",
    "shots_20_21 = sql('select * from shots_detail', c)\n",
    "\n",
    "df_all_shots = pd.concat([shots_19_20, shots_20_21])"
   ]
  },
  {
   "cell_type": "code",
   "execution_count": null,
   "metadata": {},
   "outputs": [],
   "source": []
  }
 ],
 "metadata": {
  "kernelspec": {
   "display_name": "Python 3",
   "language": "python",
   "name": "python3"
  },
  "language_info": {
   "codemirror_mode": {
    "name": "ipython",
    "version": 3
   },
   "file_extension": ".py",
   "mimetype": "text/x-python",
   "name": "python",
   "nbconvert_exporter": "python",
   "pygments_lexer": "ipython3",
   "version": "3.7.3"
  }
 },
 "nbformat": 4,
 "nbformat_minor": 2
}
